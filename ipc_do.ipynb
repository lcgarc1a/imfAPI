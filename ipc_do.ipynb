{
 "cells": [
  {
   "cell_type": "markdown",
   "metadata": {},
   "source": [
    "# <a id='toc1_'></a>[Automatizar reporte del IPC](#toc0_)"
   ]
  },
  {
   "cell_type": "markdown",
   "metadata": {},
   "source": [
    "**Table of contents**<a id='toc0_'></a>    \n",
    "- [Automatizar reporte del IPC](#toc1_)    \n",
    "  - [Uso del API del FMI para datos de República Dominicana: IPC](#toc1_1_)    \n",
    "    - [Imports de las librerias que voy a utilizar](#toc1_1_1_)    \n",
    "    - [Función para buscar el código del indicador deseado](#toc1_1_2_)    \n",
    "    - [Función para buscar la estructura de datos](#toc1_1_3_)    \n",
    "    - [Función para buscar los códigos de los indicadores](#toc1_1_4_)    \n",
    "    - [Función para obtener el dataframe del IPC](#toc1_1_5_)    \n",
    "    - [Función para obtener la variación del IPC](#toc1_1_6_)    \n",
    "    - [Nota](#toc1_1_7_)    \n",
    "      - [Actualización](#toc1_1_7_1_)    \n",
    "  - [Usando el archivo de Excel del BCRD](#toc1_2_)    \n",
    "    - [Imports adicionales](#toc1_2_1_)    \n",
    "    - [Descarga de archivo](#toc1_2_2_)    \n",
    "    - [Datos del reporte](#toc1_2_3_)    \n",
    "    - [Hacer la data usable](#toc1_2_4_)    \n",
    "    - [Gráfico de la inflación: ejemplo](#toc1_2_5_)    \n",
    "    - [Indexar montos](#toc1_2_6_)    \n",
    "\n",
    "<!-- vscode-jupyter-toc-config\n",
    "\tnumbering=false\n",
    "\tanchor=true\n",
    "\tflat=false\n",
    "\tminLevel=1\n",
    "\tmaxLevel=6\n",
    "\t/vscode-jupyter-toc-config -->\n",
    "<!-- THIS CELL WILL BE REPLACED ON TOC UPDATE. DO NOT WRITE YOUR TEXT IN THIS CELL -->"
   ]
  },
  {
   "cell_type": "markdown",
   "metadata": {},
   "source": [
    "## <a id='toc1_1_'></a>[Uso del API del FMI para datos de República Dominicana: IPC](#toc0_)"
   ]
  },
  {
   "cell_type": "markdown",
   "metadata": {},
   "source": [
    "<div style=\"display: flex; align-items: center;;\">\n",
    "    <img src=\"https://upload.wikimedia.org/wikipedia/commons/thumb/9/9f/Flag_of_the_Dominican_Republic.svg/1280px-Flag_of_the_Dominican_Republic.svg.png\" alt=\"Bandera de República Dominicana\" style=\"width: 150px; height: auto; margin-right: 10px;\">\n",
    "    <img src=\"https://bancentral.gov.do/bc_wp_template/img/logo-bc-footer.png\" alt=\"Logo BCRD\" style=\"width: 150px; height: auto; margin-right: 10px;\">\n",
    "    <div style=\"height: 150px; width: 2px; background-color: #000; margin: 0 10px;\"></div> <!-- Vertical bar -->\n",
    "    <img src=\"https://www.imf.org/assets/imf/images/footer/IMF_seal.svg\" alt=\"Logo del FMI\" style=\"width: 150px; height: auto;\">\n",
    "    <img src=\"https://sdmx.org/wp-content/uploads/sdmx-logo_2.png\" alt=\"Logo del SDMX\" style=\"width: 150px; height: auto;\">\n",
    "</div>"
   ]
  },
  {
   "cell_type": "markdown",
   "metadata": {},
   "source": [
    "Las informaciones que necesites las puedes obtener en la página del Banco Central: <https://www.bancentral.gov.do/a/d/4158-national-summary-data-page-nsdp>"
   ]
  },
  {
   "cell_type": "markdown",
   "metadata": {},
   "source": [
    "Pero, en caso que necesites utilizar la data constantemente, puede ser útil tenerla actualizable rápidamente. En mi caso, uso la tabla de excel del IPC del Banco Central constantemente y, por ende, voy a crear una herramienta que me permita automatizar mis procesos."
   ]
  },
  {
   "cell_type": "markdown",
   "metadata": {},
   "source": [
    "Fuentes:\n",
    "\n",
    "- <https://datahelp.imf.org/knowledgebase/articles/667681-json-restful-web-service>\n",
    "- <https://datahelp.imf.org/knowledgebase/articles/1968408-how-to-use-the-api-python-and-r>"
   ]
  },
  {
   "cell_type": "markdown",
   "metadata": {},
   "source": [
    "### <a id='toc1_1_1_'></a>[Imports de las librerias que voy a utilizar](#toc0_)"
   ]
  },
  {
   "cell_type": "code",
   "execution_count": 1,
   "metadata": {},
   "outputs": [],
   "source": [
    "import requests\n",
    "from datetime import date\n",
    "import polars as pl"
   ]
  },
  {
   "cell_type": "code",
   "execution_count": 2,
   "metadata": {},
   "outputs": [
    {
     "data": {
      "text/plain": [
       "<polars.config.Config at 0x15699f96180>"
      ]
     },
     "execution_count": 2,
     "metadata": {},
     "output_type": "execute_result"
    }
   ],
   "source": [
    "# Configuración para poder ver 100 caracteres por columna\n",
    "# y mostrar 30 filas\n",
    "pl.Config(\n",
    "    set_fmt_str_lengths = 100,\n",
    "    set_tbl_rows = 30,\n",
    ")"
   ]
  },
  {
   "cell_type": "markdown",
   "metadata": {},
   "source": [
    "### <a id='toc1_1_2_'></a>[Función para buscar el código del indicador deseado](#toc0_)"
   ]
  },
  {
   "cell_type": "code",
   "execution_count": 3,
   "metadata": {},
   "outputs": [],
   "source": [
    "def data_flow_search(search_term: str) -> None:\n",
    "    \"\"\"Función para buscar indicadores.\n",
    "    \n",
    "    Muestra los resultados de `database_id` \n",
    "    que coinciden con la búsqueda.\n",
    "\n",
    "    Args:\n",
    "        search_term (str): Palabras o siglas\n",
    "        en inglés.\n",
    "    \"\"\"\n",
    "\n",
    "    root_url = 'http://dataservices.imf.org/REST/SDMX_JSON.svc'\n",
    "    method = \"DataFlow\"\n",
    "    url = f\"{root_url}/{method}\"\n",
    "\n",
    "    result_list = (\n",
    "        requests.get(url).json()\n",
    "        ['Structure']['Dataflows']['Dataflow']\n",
    "    )\n",
    "\n",
    "    for item in result_list:\n",
    "        if search_term.upper() in item['Name']['#text'].upper():\n",
    "            name = item['Name']['#text']\n",
    "            key_id = item['KeyFamilyRef']['KeyFamilyID']\n",
    "            print(\n",
    "                f\"{name}: {key_id}\"\n",
    "            )"
   ]
  },
  {
   "cell_type": "code",
   "execution_count": 4,
   "metadata": {},
   "outputs": [
    {
     "name": "stdout",
     "output_type": "stream",
     "text": [
      "Consumer Price Index (CPI): CPI\n",
      "Coordinated Portfolio Investment Survey (CPIS): CPIS\n"
     ]
    }
   ],
   "source": [
    "data_flow_search('cpi')"
   ]
  },
  {
   "cell_type": "markdown",
   "metadata": {},
   "source": [
    "Según el resultado de la busqueda, debo utilizar el código `CPI`"
   ]
  },
  {
   "cell_type": "markdown",
   "metadata": {},
   "source": [
    "### <a id='toc1_1_3_'></a>[Función para buscar la estructura de datos](#toc0_)"
   ]
  },
  {
   "cell_type": "code",
   "execution_count": 5,
   "metadata": {},
   "outputs": [],
   "source": [
    "def data_structure_search(database_id: str) -> None:\n",
    "    \"\"\"Función para buscar las dimensiones, \n",
    "    es decir, los códigos que servirán para \n",
    "    solicitar el dataset que queremos.\n",
    "\n",
    "    Args:\n",
    "        database_id (str): código previamente \n",
    "        obtenido con la función `data_flow_search`.\n",
    "    \"\"\"\n",
    "    \n",
    "    root_url = \"http://dataservices.imf.org/REST/SDMX_JSON.svc\"\n",
    "    method = \"DataStructure\"\n",
    "    url = f\"{root_url}/{method}/{database_id}\"\n",
    "\n",
    "    result_list = (\n",
    "        requests.get(url).json()\n",
    "        ['Structure']['KeyFamilies']['KeyFamily']\n",
    "        ['Components']['Dimension']\n",
    "    )\n",
    "\n",
    "    for item in result_list:\n",
    "        concept = item[\"@conceptRef\"]\n",
    "        concept_code = item[\"@codelist\"]\n",
    "        print(f\"{concept}: {concept_code}\")"
   ]
  },
  {
   "cell_type": "code",
   "execution_count": 6,
   "metadata": {},
   "outputs": [
    {
     "name": "stdout",
     "output_type": "stream",
     "text": [
      "FREQ: CL_FREQ\n",
      "REF_AREA: CL_AREA_CPI\n",
      "INDICATOR: CL_INDICATOR_CPI\n"
     ]
    }
   ],
   "source": [
    "data_structure_search(\"CPI\")"
   ]
  },
  {
   "cell_type": "markdown",
   "metadata": {},
   "source": [
    "Códigos de la Estructura:\n",
    "\n",
    "- `CL_FREQ`: Frecuencia (M: Mensual, A: Anual)\n",
    "- `CL_AREA_CPI`: País o Área (DO: República Dominicana)\n",
    "- `CL_INDICATOR_CPI`: El tipo de IPC (general, alimentos, transporte, etc.) que buscaremos a continuación.\n",
    "\n",
    "En este caso aparecieron estos 3 códigos, pero para otros indicadores distintos a `CPI` este resultado cambia."
   ]
  },
  {
   "cell_type": "markdown",
   "metadata": {},
   "source": [
    "### <a id='toc1_1_4_'></a>[Función para buscar los códigos de los indicadores](#toc0_)"
   ]
  },
  {
   "cell_type": "code",
   "execution_count": 7,
   "metadata": {},
   "outputs": [],
   "source": [
    "def indicator_search(code: str) -> None:\n",
    "    \"\"\"Función para buscar la descripción de los  \n",
    "    indicadores y su código.\n",
    "\n",
    "    Args:\n",
    "        code (str): código del indicador obtenido \n",
    "        con la función `data_structure_search`.\n",
    "    \"\"\"\n",
    "    \n",
    "    root_url = \"http://dataservices.imf.org/REST/SDMX_JSON.svc\"\n",
    "    method = \"CodeList\"\n",
    "    url = f\"{root_url}/{method}/{code}\"\n",
    "\n",
    "    result_list = (\n",
    "        requests.get(url).json()\n",
    "        ['Structure']['CodeLists']['CodeList']['Code']\n",
    "    )\n",
    "\n",
    "    for item in result_list:\n",
    "        code_description = item['Description']['#text']\n",
    "        code = item['@value']\n",
    "        print(f\"{code}: {code_description}\")"
   ]
  },
  {
   "cell_type": "code",
   "execution_count": 8,
   "metadata": {},
   "outputs": [
    {
     "name": "stdout",
     "output_type": "stream",
     "text": [
      "PCPI_IX: Consumer Price Index, All items\n",
      "PCPIF_IX: Food and non-alcoholic beverages\n",
      "PCPIFBT_IX: Alcoholic Beverages, Tobacco, and Narcotics\n",
      "PCPIA_IX: Clothing and footwear\n",
      "PCPIH_IX: Housing, Water, Electricity, Gas and Other Fuels\n",
      "PCPIHO_IX: Furnishings, household equipment and routine household maintenance\n",
      "PCPIM_IX: Health\n",
      "PCPIT_IX: Transport\n",
      "PCPIEC_IX: Communication\n",
      "PCPIR_IX: Recreation and culture\n",
      "PCPIED_IX: Education\n",
      "PCPIRE_IX: Restaurants and hotels\n",
      "PCPIO_IX: Miscellaneous goods and services\n",
      "PCPI_OLP_IX: Consumer Price Index, All items, Overlap\n",
      "PCPIF_OLP_IX: Food and non-alcoholic beverages, Overlap\n",
      "PCPIFBT_OLP_IX: Alcoholic Beverages, Tobacco, and Narcotics, Overlap\n",
      "PCPIA_OLP_IX: Clothing and footwear, Overlap\n",
      "PCPIH_OLP_IX: Housing, Water, Electricity, Gas and Other Fuels, Overlap\n",
      "PCPIHO_OLP_IX: Furnishings, household equipment and routine household maintenance, Overlap\n",
      "PCPIM_OLP_IX: Health, Overlap\n",
      "PCPIT_OLP_IX: Transport, Overlap\n",
      "PCPIEC_OLP_IX: Communication, Overlap\n",
      "PCPIR_OLP_IX: Recreation and culture, Overlap\n",
      "PCPIED_OLP_IX: Education, Overlap\n",
      "PCPIRE_OLP_IX: Restaurants and hotels, Overlap\n",
      "PCPIO_OLP_IX: Miscellaneous goods and services, Overlap\n",
      "PCPIF_WT: Food and non-alcoholic beverages, Weight\n",
      "PCPIFBT_WT: Alcoholic Beverages, Tobacco, and Narcotics, Weight\n",
      "PCPIA_WT: Clothing and footwear, Weight\n",
      "PCPIH_WT: Housing, Water, Electricity, Gas and Other Fuels, Weight\n",
      "PCPIHO_WT: Furnishings, household equipment and routine household maintenance, Weight\n",
      "PCPIM_WT: Health, Weight\n",
      "PCPIT_WT: Transport, Weight\n",
      "PCPIEC_WT: Communication, Weight\n",
      "PCPIR_WT: Recreation and culture, Weight\n",
      "PCPIED_WT: Education, Weight\n",
      "PCPIRE_WT: Restaurants and hotels, Weight\n",
      "PCPIO_WT: Miscellaneous goods and services, Weight\n",
      "PCPIHA_IX: Consumer Price Index, All items, Harmonized\n",
      "PCPIHAF_IX: Food and non-alcoholic beverages, Harmonized\n",
      "PCPIHABT_IX: Alcoholic Beverages, Tobacco, and Narcotics, Harmonized\n",
      "PCPIHAA_IX: Clothing and footwear, Harmonized\n",
      "PCPIHAH_IX: Housing, Water, Electricity, Gas and Other Fuels, Harmonized\n",
      "PCPIHAHO_IX: Furnishings, household equipment and routine household maintenance, Harmonized\n",
      "PCPIHAM_IX: Health, Harmonized\n",
      "PCPIHAT_IX: Transport, Harmonized\n",
      "PCPIHAC_IX: Communication, Harmonized\n",
      "PCPIHARC_IX: Recreation and culture, Harmonized\n",
      "PCPIHAED_IX: Education, Harmonized\n",
      "PCPIHARE_IX: Restaurants and hotels, Harmonized\n",
      "PCPIHAO_IX: Miscellaneous goods and services, Harmonized\n",
      "PCPIHA_OLP_IX: Consumer Price Index, All items, Harmonized, Overlap\n",
      "PCPIHAF_OLP_IX: Food and non-alcoholic beverages, Harmonized, Overlap\n",
      "PCPIHABT_OLP_IX: Alcoholic Beverages, Tobacco, and Narcotics, Harmonized, Overlap\n",
      "PCPIHAA_OLP_IX: Clothing and footwear, Harmonized, Overlap\n",
      "PCPIHAH_OLP_IX: Housing, Water, Electricity, Gas and Other Fuels, Harmonized, Overlap\n",
      "PCPIHAHO_OLP_IX: Furnishings, household equipment and routine household maintenance, Harmonized, Overlap\n",
      "PCPIHAM_OLP_IX: Health, Harmonized, Overlap\n",
      "PCPIHAT_OLP_IX: Transport, Harmonized, Overlap\n",
      "PCPIHAC_OLP_IX: Communication, Harmonized, Overlap\n",
      "PCPIHARC_OLP_IX: Recreation and culture, Harmonized, Overlap\n",
      "PCPIHAED_OLP_IX: Education, Harmonized, Overlap\n",
      "PCPIHARE_OLP_IX: Restaurants and hotels, Harmonized, Overlap\n",
      "PCPIHAO_OLP_IX: Miscellaneous goods and services, Harmonized, Overlap\n",
      "PCPIHAF_WT: Food and non-alcoholic beverages, Harmonized, Weight\n",
      "PCPIHABT_WT: Alcoholic Beverages, Tobacco, and Narcotics, Harmonized, Weight\n",
      "PCPIHAA_WT: Clothing and footwear, Harmonized, Weight\n",
      "PCPIHAH_WT: Housing, Water, Electricity, Gas and Other Fuels, Harmonized, Weight\n",
      "PCPIHAHO_WT: Furnishings, household equipment and routine household maintenance, Harmonized, Weight\n",
      "PCPIHAM_WT: Health, Harmonized, Weight\n",
      "PCPIHAT_WT: Transport, Harmonized, Weight\n",
      "PCPIHAC_WT: Communication, Harmonized, Weight\n",
      "PCPIHARC_WT: Recreation and culture, Harmonized, Weight\n",
      "PCPIHAED_WT: Education, Harmonized, Weight\n",
      "PCPIHARE_WT: Restaurants and hotels, Harmonized, Weight\n",
      "PCPIHAO_WT: Miscellaneous goods and services, Harmonized, Weight\n",
      "PCPI_SRP_IX: Consumer Price Index, All items, Standard Reference Period\n",
      "PCPIF_SRP_IX: Food and non-alcoholic beverages, Standard Reference Period\n",
      "PCPIFBT_SRP_IX: Alcoholic Beverages, Tobacco, and Narcotics, Standard Reference Period\n",
      "PCPIA_SRP_IX: Clothing and footwear, Standard Reference Period\n",
      "PCPIH_SRP_IX: Housing, Water, Electricity, Gas and Other Fuels, Standard Reference Period\n",
      "PCPIHO_SRP_IX: Furnishings, household equipment and routine household maintenance, Standard Reference Period\n",
      "PCPIM_SRP_IX: Health, Standard Reference Period\n",
      "PCPIT_SRP_IX: Transport, Standard Reference Period\n",
      "PCPIEC_SRP_IX: Communication, Standard Reference Period\n",
      "PCPIR_SRP_IX: Recreation and culture, Standard Reference Period\n",
      "PCPIED_SRP_IX: Education, Standard Reference Period\n",
      "PCPIRE_SRP_IX: Restaurants and hotels, Standard Reference Period\n",
      "PCPIO_SRP_IX: Miscellaneous goods and services, Standard Reference Period\n",
      "PCPI_PC_PP_PT: Consumer Price Index, All items, Percentage change, Previous period\n",
      "PCPIF_PC_PP_PT: Food and non-alcoholic beverages, Percentage change, Previous period\n",
      "PCPIFBT_PC_PP_PT: Alcoholic Beverages, Tobacco, and Narcotics, Percentage change, Previous period\n",
      "PCPIA_PC_PP_PT: Clothing and footwear, Percentage change, Previous period\n",
      "PCPIH_PC_PP_PT: Housing, Water, Electricity, Gas and Other Fuels, Percentage change, Previous period\n",
      "PCPIHO_PC_PP_PT: Furnishings, household equipment and routine household maintenance, Percentage change, Previous period\n",
      "PCPIM_PC_PP_PT: Health, Percentage change, Previous period\n",
      "PCPIT_PC_PP_PT: Transport, Percentage change, Previous period\n",
      "PCPIEC_PC_PP_PT: Communication, Percentage change, Previous period\n",
      "PCPIR_PC_PP_PT: Recreation and culture, Percentage change, Previous period\n",
      "PCPIED_PC_PP_PT: Education, Percentage change, Previous period\n",
      "PCPIRE_PC_PP_PT: Restaurants and hotels, Percentage change, Previous period\n",
      "PCPIO_PC_PP_PT: Miscellaneous goods and services, Percentage change, Previous period\n",
      "PCPI_PC_CP_A_PT: Consumer Price Index, All items, Percentage change, Previous year\n",
      "PCPIF_PC_CP_A_PT: Food and non-alcoholic beverages, Percentage change, Previous year\n",
      "PCPIFBT_PC_CP_A_PT: Alcoholic Beverages, Tobacco, and Narcotics, Percentage change, Previous year\n",
      "PCPIA_PC_CP_A_PT: Clothing and footwear, Percentage change, Previous year\n",
      "PCPIH_PC_CP_A_PT: Housing, Water, Electricity, Gas and Other Fuels, Percentage change, Previous year\n",
      "PCPIHO_PC_CP_A_PT: Furnishings, household equipment and routine household maintenance, Percentage change, Previous year\n",
      "PCPIM_PC_CP_A_PT: Health, Percentage change, Previous year\n",
      "PCPIT_PC_CP_A_PT: Transport, Percentage change, Previous year\n",
      "PCPIEC_PC_CP_A_PT: Communication, Percentage change, Previous year\n",
      "PCPIR_PC_CP_A_PT: Recreation and culture, Percentage change, Previous year\n",
      "PCPIED_PC_CP_A_PT: Education, Percentage change, Previous year\n",
      "PCPIRE_PC_CP_A_PT: Restaurants and hotels, Percentage change, Previous year\n",
      "PCPIO_PC_CP_A_PT: Miscellaneous goods and services, Percentage change, Previous year\n",
      "PCPIHA_SRP_IX: Consumer Price Index, All items, Harmonized, Standard Reference Period\n",
      "PCPIHAF_SRP_IX: Food and non-alcoholic beverages, Harmonized, Standard Reference Period\n",
      "PCPIHABT_SRP_IX: Alcoholic Beverages, Tobacco, and Narcotics, Harmonized, Standard Reference Period\n",
      "PCPIHAA_SRP_IX: Clothing and footwear, Harmonized, Standard Reference Period\n",
      "PCPIHAH_SRP_IX: Housing, Water, Electricity, Gas and Other Fuels, Harmonized, Standard Reference Period\n",
      "PCPIHAHO_SRP_IX: Furnishings, household equipment and routine household maintenance, Harmonized, Standard Reference Period\n",
      "PCPIHAM_SRP_IX: Health, Harmonized, Standard Reference Period\n",
      "PCPIHAT_SRP_IX: Transport, Harmonized, Standard Reference Period\n",
      "PCPIHAC_SRP_IX: Communication, Harmonized, Standard Reference Period\n",
      "PCPIHARC_SRP_IX: Recreation and culture, Harmonized, Standard Reference Period\n",
      "PCPIHAED_SRP_IX: Education, Harmonized, Standard Reference Period\n",
      "PCPIHARE_SRP_IX: Restaurants and hotels, Harmonized, Standard Reference Period\n",
      "PCPIHAO_SRP_IX: Miscellaneous goods and services, Harmonized, Standard Reference Period\n",
      "PCPIHA_PC_PP_PT: Consumer Price Index, All items, Harmonized, Percentage change, Previous period\n",
      "PCPIHAF_PC_PP_PT: Food and non-alcoholic beverages, Harmonized, Percentage change, Previous period\n",
      "PCPIHABT_PC_PP_PT: Alcoholic Beverages, Tobacco, and Narcotics, Harmonized, Percentage change, Previous period\n",
      "PCPIHAA_PC_PP_PT: Clothing and footwear, Harmonized, Percentage change, Previous period\n",
      "PCPIHAH_PC_PP_PT: Housing, Water, Electricity, Gas and Other Fuels, Harmonized, Percentage change, Previous period\n",
      "PCPIHAHO_PC_PP_PT: Furnishings, household equipment and routine household maintenance, Harmonized, Percentage change, Previous period\n",
      "PCPIHAM_PC_PP_PT: Health, Harmonized, Percentage change, Previous period\n",
      "PCPIHAT_PC_PP_PT: Transport, Harmonized, Percentage change, Previous period\n",
      "PCPIHAC_PC_PP_PT: Communication, Harmonized, Percentage change, Previous period\n",
      "PCPIHARC_PC_PP_PT: Recreation and culture, Harmonized, Percentage change, Previous period\n",
      "PCPIHAED_PC_PP_PT: Education, Harmonized, Percentage change, Previous period\n",
      "PCPIHARE_PC_PP_PT: Restaurants and hotels, Harmonized, Percentage change, Previous period\n",
      "PCPIHAO_PC_PP_PT: Miscellaneous goods and services, Harmonized, Percentage change, Previous period\n",
      "PCPIHA_PC_CP_A_PT: Consumer Price Index, All items, Harmonized, Percentage change, Previous year\n",
      "PCPIHAF_PC_CP_A_PT: Food and non-alcoholic beverages, Harmonized, Percentage change, Previous year\n",
      "PCPIHABT_PC_CP_A_PT: Alcoholic Beverages, Tobacco, and Narcotics, Harmonized, Percentage change, Previous year\n",
      "PCPIHAA_PC_CP_A_PT: Clothing and footwear, Harmonized, Percentage change, Previous year\n",
      "PCPIHAH_PC_CP_A_PT: Housing, Water, Electricity, Gas and Other Fuels, Harmonized, Percentage change, Previous year\n",
      "PCPIHAHO_PC_CP_A_PT: Furnishings, household equipment and routine household maintenance, Harmonized, Percentage change, Previous year\n",
      "PCPIHAM_PC_CP_A_PT: Health, Harmonized, Percentage change, Previous year\n",
      "PCPIHAT_PC_CP_A_PT: Transport, Harmonized, Percentage change, Previous year\n",
      "PCPIHAC_PC_CP_A_PT: Communication, Harmonized, Percentage change, Previous year\n",
      "PCPIHARC_PC_CP_A_PT: Recreation and culture, Harmonized, Percentage change, Previous year\n",
      "PCPIHAED_PC_CP_A_PT: Education, Harmonized, Percentage change, Previous year\n",
      "PCPIHARE_PC_CP_A_PT: Restaurants and hotels, Harmonized, Percentage change, Previous year\n",
      "PCPIHAO_PC_CP_A_PT: Miscellaneous goods and services, Harmonized, Percentage change, Previous year\n",
      "PCPIF_WT_PT: Food and non-alcoholic beverages, Weight, Percent\n",
      "PCPIFBT_WT_PT: Alcoholic Beverages, Tobacco, and Narcotics, Weight, Percent\n",
      "PCPIA_WT_PT: Clothing and footwear, Weight, Percent\n",
      "PCPIH_WT_PT: Housing, Water, Electricity, Gas and Other Fuels, Weight, Percent\n",
      "PCPIHO_WT_PT: Furnishings, household equipment and routine household maintenance, Weight, Percent\n",
      "PCPIM_WT_PT: Health, Weight, Percent\n",
      "PCPIT_WT_PT: Transport, Weight, Percent\n",
      "PCPIEC_WT_PT: Communication, Weight, Percent\n",
      "PCPIR_WT_PT: Recreation and culture, Weight, Percent\n",
      "PCPIED_WT_PT: Education, Weight, Percent\n",
      "PCPIRE_WT_PT: Restaurants and hotels, Weight, Percent\n",
      "PCPIO_WT_PT: Miscellaneous goods and services, Weight, Percent\n",
      "PCPIHAA_WT_PT: Clothing and footwear, Harmonized, Weight, Percent\n",
      "PCPIHABT_WT_PT: Alcoholic Beverages, Tobacco, and Narcotics, Harmonized, Weight, Percent\n",
      "PCPIHAC_WT_PT: Communication, Harmonized, Weight, Percent\n",
      "PCPIHAED_WT_PT: Education, Harmonized, Weight, Percent\n",
      "PCPIHAF_WT_PT: Food and non-alcoholic beverages, Harmonized, Weight, Percent\n",
      "PCPIHAHO_WT_PT: Furnishings, household equipment and routine household maintenance, Harmonized, Weight, Percent\n",
      "PCPIHAH_WT_PT: Housing, Water, Electricity, Gas and Other Fuels, Harmonized, Weight, Percent\n",
      "PCPIHAM_WT_PT: Health, Harmonized, Weight, Percent\n",
      "PCPIHAO_WT_PT: Miscellaneous goods and services, Harmonized, Weight, Percent\n",
      "PCPIHARC_WT_PT: Recreation and culture, Harmonized, Weight, Percent\n",
      "PCPIHARE_WT_PT: Restaurants and hotels, Harmonized, Weight, Percent\n",
      "PCPIHAT_WT_PT: Transport, Harmonized, Weight, Percent\n"
     ]
    }
   ],
   "source": [
    "indicator_search(\"CL_INDICATOR_CPI\")"
   ]
  },
  {
   "cell_type": "markdown",
   "metadata": {},
   "source": [
    "La busqueda nos muestra todos los indicadores disponibles. Aunque, probablemente no todos esten incluidos en las estadisticas recurrentes, y por ende, no arrojen resultados si se intenta hacer la consulta.\n",
    "\n",
    "En este caso voy a usar el IPC general: `PCPI_IX`"
   ]
  },
  {
   "cell_type": "markdown",
   "metadata": {},
   "source": [
    "### <a id='toc1_1_5_'></a>[Función para obtener el dataframe del IPC](#toc0_)"
   ]
  },
  {
   "cell_type": "code",
   "execution_count": 9,
   "metadata": {},
   "outputs": [],
   "source": [
    "def get_cpi(\n",
    "    database_id: str,\n",
    "    frequency: str,\n",
    "    ref_area: str,\n",
    "    indicator: str\n",
    ") -> pl.DataFrame:\n",
    "\n",
    "    \"\"\"Función que genera un dataframe con los valores del IPC.\n",
    "\n",
    "    Returns:\n",
    "        polars.DataFrame\n",
    "    \"\"\"\n",
    "    \n",
    "    root_url = \"http://dataservices.imf.org/REST/SDMX_JSON.svc\"\n",
    "    method = \"CompactData\"\n",
    "\n",
    "    # Se podría incluir un filtro de fechas segun la documentación del API\n",
    "    # Pero para este caso prefiero tener todas las fechas\n",
    "    url = f\"{root_url}/{method}/{database_id}/{frequency}.{ref_area}.{indicator}\"\n",
    "\n",
    "    data = (\n",
    "            requests.get(url).json()\n",
    "            ['CompactData']['DataSet']['Series']\n",
    "    )\n",
    "\n",
    "    obs_list_of_dicts = data['Obs']\n",
    "\n",
    "    reference_period = [obs.get(\"@REFERENCE_PERIOD\") for obs in obs_list_of_dicts]\n",
    "    time_period = [obs.get(\"@TIME_PERIOD\") for obs in obs_list_of_dicts]\n",
    "    obs_value = [obs.get(\"@OBS_VALUE\") for obs in obs_list_of_dicts]\n",
    "\n",
    "    df = (\n",
    "        pl.DataFrame(data)\n",
    "        .drop('Obs')\n",
    "        .unique()\n",
    "        .join(\n",
    "            pl.DataFrame(\n",
    "                {\n",
    "                    \"REFERENCE_PERIOD\":reference_period,\n",
    "                    \"TIME_PERIOD\": time_period,\n",
    "                    \"OBS_VALUE\": obs_value\n",
    "                }\n",
    "            ),\n",
    "            how=\"cross\"\n",
    "        )\n",
    "        .drop_nulls()\n",
    "        .with_columns(\n",
    "            pl.col(\"TIME_PERIOD\").str.to_date(\"%Y-%m\"),\n",
    "            pl.col(\"OBS_VALUE\").cast(pl.Float64)\n",
    "        )\n",
    "    )\n",
    "\n",
    "    return df"
   ]
  },
  {
   "cell_type": "code",
   "execution_count": 10,
   "metadata": {},
   "outputs": [],
   "source": [
    "# Pasamos los argumentos\n",
    "cpi_df = get_cpi(\n",
    "    database_id = \"CPI\",\n",
    "    frequency = \"M\",\n",
    "    ref_area = \"DO\",\n",
    "    indicator = \"PCPI_IX\",\n",
    ")"
   ]
  },
  {
   "cell_type": "code",
   "execution_count": 11,
   "metadata": {},
   "outputs": [
    {
     "data": {
      "text/plain": [
       "(301, 9)"
      ]
     },
     "execution_count": 11,
     "metadata": {},
     "output_type": "execute_result"
    }
   ],
   "source": [
    "cpi_df.shape"
   ]
  },
  {
   "cell_type": "code",
   "execution_count": 12,
   "metadata": {},
   "outputs": [
    {
     "data": {
      "text/html": [
       "<div><style>\n",
       ".dataframe > thead > tr,\n",
       ".dataframe > tbody > tr {\n",
       "  text-align: right;\n",
       "  white-space: pre-wrap;\n",
       "}\n",
       "</style>\n",
       "<small>shape: (9, 10)</small><table border=\"1\" class=\"dataframe\"><thead><tr><th>statistic</th><th>@FREQ</th><th>@REF_AREA</th><th>@INDICATOR</th><th>@UNIT_MULT</th><th>@COMMON_REFERENCE_PERIOD</th><th>@TIME_FORMAT</th><th>REFERENCE_PERIOD</th><th>TIME_PERIOD</th><th>OBS_VALUE</th></tr><tr><td>str</td><td>str</td><td>str</td><td>str</td><td>str</td><td>str</td><td>str</td><td>str</td><td>str</td><td>f64</td></tr></thead><tbody><tr><td>&quot;count&quot;</td><td>&quot;301&quot;</td><td>&quot;301&quot;</td><td>&quot;301&quot;</td><td>&quot;301&quot;</td><td>&quot;301&quot;</td><td>&quot;301&quot;</td><td>&quot;301&quot;</td><td>&quot;301&quot;</td><td>301.0</td></tr><tr><td>&quot;null_count&quot;</td><td>&quot;0&quot;</td><td>&quot;0&quot;</td><td>&quot;0&quot;</td><td>&quot;0&quot;</td><td>&quot;0&quot;</td><td>&quot;0&quot;</td><td>&quot;0&quot;</td><td>&quot;0&quot;</td><td>0.0</td></tr><tr><td>&quot;mean&quot;</td><td>null</td><td>null</td><td>null</td><td>null</td><td>null</td><td>null</td><td>null</td><td>&quot;2011-07-02&quot;</td><td>72.632649</td></tr><tr><td>&quot;std&quot;</td><td>null</td><td>null</td><td>null</td><td>null</td><td>null</td><td>null</td><td>null</td><td>null</td><td>29.409746</td></tr><tr><td>&quot;min&quot;</td><td>&quot;M&quot;</td><td>&quot;DO&quot;</td><td>&quot;PCPI_IX&quot;</td><td>&quot;0&quot;</td><td>&quot;2019M10-2020M09&quot;</td><td>&quot;P1M&quot;</td><td>&quot;2019M10-2020M09&quot;</td><td>&quot;1999-01-01&quot;</td><td>21.361336</td></tr><tr><td>&quot;25%&quot;</td><td>null</td><td>null</td><td>null</td><td>null</td><td>null</td><td>null</td><td>null</td><td>&quot;2005-04-01&quot;</td><td>53.270447</td></tr><tr><td>&quot;50%&quot;</td><td>null</td><td>null</td><td>null</td><td>null</td><td>null</td><td>null</td><td>null</td><td>&quot;2011-07-01&quot;</td><td>78.566192</td></tr><tr><td>&quot;75%&quot;</td><td>null</td><td>null</td><td>null</td><td>null</td><td>null</td><td>null</td><td>null</td><td>&quot;2017-10-01&quot;</td><td>92.697032</td></tr><tr><td>&quot;max&quot;</td><td>&quot;M&quot;</td><td>&quot;DO&quot;</td><td>&quot;PCPI_IX&quot;</td><td>&quot;0&quot;</td><td>&quot;2019M10-2020M09&quot;</td><td>&quot;P1M&quot;</td><td>&quot;2019M10-2020M09&quot;</td><td>&quot;2024-01-01&quot;</td><td>126.9796</td></tr></tbody></table></div>"
      ],
      "text/plain": [
       "shape: (9, 10)\n",
       "┌────────────┬───────┬───────────┬────────────┬───┬────────────┬───────────┬───────────┬───────────┐\n",
       "│ statistic  ┆ @FREQ ┆ @REF_AREA ┆ @INDICATOR ┆ … ┆ @TIME_FORM ┆ REFERENCE ┆ TIME_PERI ┆ OBS_VALUE │\n",
       "│ ---        ┆ ---   ┆ ---       ┆ ---        ┆   ┆ AT         ┆ _PERIOD   ┆ OD        ┆ ---       │\n",
       "│ str        ┆ str   ┆ str       ┆ str        ┆   ┆ ---        ┆ ---       ┆ ---       ┆ f64       │\n",
       "│            ┆       ┆           ┆            ┆   ┆ str        ┆ str       ┆ str       ┆           │\n",
       "╞════════════╪═══════╪═══════════╪════════════╪═══╪════════════╪═══════════╪═══════════╪═══════════╡\n",
       "│ count      ┆ 301   ┆ 301       ┆ 301        ┆ … ┆ 301        ┆ 301       ┆ 301       ┆ 301.0     │\n",
       "│ null_count ┆ 0     ┆ 0         ┆ 0          ┆ … ┆ 0          ┆ 0         ┆ 0         ┆ 0.0       │\n",
       "│ mean       ┆ null  ┆ null      ┆ null       ┆ … ┆ null       ┆ null      ┆ 2011-07-0 ┆ 72.632649 │\n",
       "│            ┆       ┆           ┆            ┆   ┆            ┆           ┆ 2         ┆           │\n",
       "│ std        ┆ null  ┆ null      ┆ null       ┆ … ┆ null       ┆ null      ┆ null      ┆ 29.409746 │\n",
       "│ min        ┆ M     ┆ DO        ┆ PCPI_IX    ┆ … ┆ P1M        ┆ 2019M10-2 ┆ 1999-01-0 ┆ 21.361336 │\n",
       "│            ┆       ┆           ┆            ┆   ┆            ┆ 020M09    ┆ 1         ┆           │\n",
       "│ 25%        ┆ null  ┆ null      ┆ null       ┆ … ┆ null       ┆ null      ┆ 2005-04-0 ┆ 53.270447 │\n",
       "│            ┆       ┆           ┆            ┆   ┆            ┆           ┆ 1         ┆           │\n",
       "│ 50%        ┆ null  ┆ null      ┆ null       ┆ … ┆ null       ┆ null      ┆ 2011-07-0 ┆ 78.566192 │\n",
       "│            ┆       ┆           ┆            ┆   ┆            ┆           ┆ 1         ┆           │\n",
       "│ 75%        ┆ null  ┆ null      ┆ null       ┆ … ┆ null       ┆ null      ┆ 2017-10-0 ┆ 92.697032 │\n",
       "│            ┆       ┆           ┆            ┆   ┆            ┆           ┆ 1         ┆           │\n",
       "│ max        ┆ M     ┆ DO        ┆ PCPI_IX    ┆ … ┆ P1M        ┆ 2019M10-2 ┆ 2024-01-0 ┆ 126.9796  │\n",
       "│            ┆       ┆           ┆            ┆   ┆            ┆ 020M09    ┆ 1         ┆           │\n",
       "└────────────┴───────┴───────────┴────────────┴───┴────────────┴───────────┴───────────┴───────────┘"
      ]
     },
     "execution_count": 12,
     "metadata": {},
     "output_type": "execute_result"
    }
   ],
   "source": [
    "cpi_df.describe()"
   ]
  },
  {
   "cell_type": "markdown",
   "metadata": {},
   "source": [
    "Podemos ver que la fecha mínima es enero de 1999. En el Excel del BCRD está desde 1984, y acá esa fecha fue descartada porque tiene valor nulo.\n",
    "\n",
    "A lo mejor se debe a que el IPC por Grupos de Bienes y Servicios está desde el 1999 también."
   ]
  },
  {
   "cell_type": "code",
   "execution_count": 13,
   "metadata": {},
   "outputs": [
    {
     "data": {
      "text/html": [
       "<div><style>\n",
       ".dataframe > thead > tr,\n",
       ".dataframe > tbody > tr {\n",
       "  text-align: right;\n",
       "  white-space: pre-wrap;\n",
       "}\n",
       "</style>\n",
       "<small>shape: (5, 9)</small><table border=\"1\" class=\"dataframe\"><thead><tr><th>@FREQ</th><th>@REF_AREA</th><th>@INDICATOR</th><th>@UNIT_MULT</th><th>@COMMON_REFERENCE_PERIOD</th><th>@TIME_FORMAT</th><th>REFERENCE_PERIOD</th><th>TIME_PERIOD</th><th>OBS_VALUE</th></tr><tr><td>str</td><td>str</td><td>str</td><td>str</td><td>str</td><td>str</td><td>str</td><td>date</td><td>f64</td></tr></thead><tbody><tr><td>&quot;M&quot;</td><td>&quot;DO&quot;</td><td>&quot;PCPI_IX&quot;</td><td>&quot;0&quot;</td><td>&quot;2019M10-2020M09&quot;</td><td>&quot;P1M&quot;</td><td>&quot;2019M10-2020M09&quot;</td><td>2024-01-01</td><td>126.9796</td></tr><tr><td>&quot;M&quot;</td><td>&quot;DO&quot;</td><td>&quot;PCPI_IX&quot;</td><td>&quot;0&quot;</td><td>&quot;2019M10-2020M09&quot;</td><td>&quot;P1M&quot;</td><td>&quot;2019M10-2020M09&quot;</td><td>2023-12-01</td><td>126.4866</td></tr><tr><td>&quot;M&quot;</td><td>&quot;DO&quot;</td><td>&quot;PCPI_IX&quot;</td><td>&quot;0&quot;</td><td>&quot;2019M10-2020M09&quot;</td><td>&quot;P1M&quot;</td><td>&quot;2019M10-2020M09&quot;</td><td>2023-11-01</td><td>125.8094</td></tr><tr><td>&quot;M&quot;</td><td>&quot;DO&quot;</td><td>&quot;PCPI_IX&quot;</td><td>&quot;0&quot;</td><td>&quot;2019M10-2020M09&quot;</td><td>&quot;P1M&quot;</td><td>&quot;2019M10-2020M09&quot;</td><td>2023-10-01</td><td>125.6376</td></tr><tr><td>&quot;M&quot;</td><td>&quot;DO&quot;</td><td>&quot;PCPI_IX&quot;</td><td>&quot;0&quot;</td><td>&quot;2019M10-2020M09&quot;</td><td>&quot;P1M&quot;</td><td>&quot;2019M10-2020M09&quot;</td><td>2023-09-01</td><td>125.3654</td></tr></tbody></table></div>"
      ],
      "text/plain": [
       "shape: (5, 9)\n",
       "┌───────┬───────────┬────────────┬────────────┬───┬────────────┬───────────┬───────────┬───────────┐\n",
       "│ @FREQ ┆ @REF_AREA ┆ @INDICATOR ┆ @UNIT_MULT ┆ … ┆ @TIME_FORM ┆ REFERENCE ┆ TIME_PERI ┆ OBS_VALUE │\n",
       "│ ---   ┆ ---       ┆ ---        ┆ ---        ┆   ┆ AT         ┆ _PERIOD   ┆ OD        ┆ ---       │\n",
       "│ str   ┆ str       ┆ str        ┆ str        ┆   ┆ ---        ┆ ---       ┆ ---       ┆ f64       │\n",
       "│       ┆           ┆            ┆            ┆   ┆ str        ┆ str       ┆ date      ┆           │\n",
       "╞═══════╪═══════════╪════════════╪════════════╪═══╪════════════╪═══════════╪═══════════╪═══════════╡\n",
       "│ M     ┆ DO        ┆ PCPI_IX    ┆ 0          ┆ … ┆ P1M        ┆ 2019M10-2 ┆ 2024-01-0 ┆ 126.9796  │\n",
       "│       ┆           ┆            ┆            ┆   ┆            ┆ 020M09    ┆ 1         ┆           │\n",
       "│ M     ┆ DO        ┆ PCPI_IX    ┆ 0          ┆ … ┆ P1M        ┆ 2019M10-2 ┆ 2023-12-0 ┆ 126.4866  │\n",
       "│       ┆           ┆            ┆            ┆   ┆            ┆ 020M09    ┆ 1         ┆           │\n",
       "│ M     ┆ DO        ┆ PCPI_IX    ┆ 0          ┆ … ┆ P1M        ┆ 2019M10-2 ┆ 2023-11-0 ┆ 125.8094  │\n",
       "│       ┆           ┆            ┆            ┆   ┆            ┆ 020M09    ┆ 1         ┆           │\n",
       "│ M     ┆ DO        ┆ PCPI_IX    ┆ 0          ┆ … ┆ P1M        ┆ 2019M10-2 ┆ 2023-10-0 ┆ 125.6376  │\n",
       "│       ┆           ┆            ┆            ┆   ┆            ┆ 020M09    ┆ 1         ┆           │\n",
       "│ M     ┆ DO        ┆ PCPI_IX    ┆ 0          ┆ … ┆ P1M        ┆ 2019M10-2 ┆ 2023-09-0 ┆ 125.3654  │\n",
       "│       ┆           ┆            ┆            ┆   ┆            ┆ 020M09    ┆ 1         ┆           │\n",
       "└───────┴───────────┴────────────┴────────────┴───┴────────────┴───────────┴───────────┴───────────┘"
      ]
     },
     "execution_count": 13,
     "metadata": {},
     "output_type": "execute_result"
    }
   ],
   "source": [
    "# Ejemplo de la data generada:\n",
    "(\n",
    "    cpi_df\n",
    "    .sort(by=\"TIME_PERIOD\", descending=True)\n",
    "    .head()\n",
    ")"
   ]
  },
  {
   "cell_type": "markdown",
   "metadata": {},
   "source": [
    "### <a id='toc1_1_6_'></a>[Función para obtener la variación del IPC](#toc0_)"
   ]
  },
  {
   "cell_type": "code",
   "execution_count": 14,
   "metadata": {},
   "outputs": [],
   "source": [
    "def cpi_change(\n",
    "    df: pl.DataFrame,\n",
    "    start_year_month: int,\n",
    "    end_year_month: int\n",
    ") -> float:\n",
    "\n",
    "    \"\"\"Función para calcular el porcentaje de variación del IPC \\\n",
    "a partir del dataframe generado por `get_cpi`.\n",
    "\n",
    "    Raises:\n",
    "        ValueError: Cuando el formato de las fechas es incorrecto. \\\n",
    "También cuando se intenta con fechas no disponibles.\n",
    "    \"\"\"\n",
    "\n",
    "    if not isinstance(df, pl.DataFrame):\n",
    "        raise TypeError(\"\"\"No es un polars dataframe.\"\"\")\n",
    "\n",
    "    if (\n",
    "        len(str(start_year_month))\n",
    "        & len(str(end_year_month)) != 6\n",
    "    ) & (\n",
    "        isinstance(start_year_month, int)\n",
    "        & isinstance(end_year_month, int)\n",
    "    ):\n",
    "        raise ValueError(\n",
    "            \"\"\"`start_year_month` y `end_year_month` \\\n",
    "deben ser números enteros en formato YYYYMM. \\\n",
    "Por ejemplo: 201501\n",
    "            \"\"\"\n",
    "        )\n",
    "\n",
    "    start_year = int(str(start_year_month)[:4])\n",
    "    start_month = int(str(start_year_month)[5:])\n",
    "\n",
    "    end_year = int(str(end_year_month)[:4])\n",
    "    end_month = int(str(end_year_month)[5:])\n",
    "\n",
    "    start_date = date(start_year, start_month, 1)\n",
    "    end_date = date(end_year, end_month, 1)\n",
    "\n",
    "    min_date = min(df['TIME_PERIOD'].to_list())\n",
    "    max_date = max(df['TIME_PERIOD'].to_list())\n",
    "\n",
    "    if (start_date >= min_date) & (end_date <= max_date):\n",
    "        pass\n",
    "    else:\n",
    "        raise ValueError(\"\"\"No hay data disponible para el rango de fechas.\"\"\")\n",
    "\n",
    "    start_cpi = (\n",
    "        df\n",
    "        .filter(\n",
    "            pl.col(\"TIME_PERIOD\") == start_date\n",
    "        )['OBS_VALUE'][0]\n",
    "    )\n",
    "\n",
    "    end_cpi = (\n",
    "        df\n",
    "        .filter(\n",
    "            pl.col(\"TIME_PERIOD\") == end_date\n",
    "        )['OBS_VALUE'][0]\n",
    "    )\n",
    "\n",
    "    pct_change = end_cpi / start_cpi - 1\n",
    "\n",
    "    return pct_change"
   ]
  },
  {
   "cell_type": "code",
   "execution_count": 15,
   "metadata": {},
   "outputs": [
    {
     "data": {
      "text/plain": [
       "0.4799336621402088"
      ]
     },
     "execution_count": 15,
     "metadata": {},
     "output_type": "execute_result"
    }
   ],
   "source": [
    "cpi_change(cpi_df, 201401, 202401)"
   ]
  },
  {
   "cell_type": "markdown",
   "metadata": {},
   "source": [
    "En este ejemplo, la variación del IPC desde enero 2014 a enero 2024 ha sido de prácticamente 48%."
   ]
  },
  {
   "cell_type": "markdown",
   "metadata": {},
   "source": [
    "### <a id='toc1_1_7_'></a>[Nota](#toc0_)"
   ]
  },
  {
   "cell_type": "markdown",
   "metadata": {},
   "source": [
    "Verificando, veo que al día de hoy 2024-03-07 el IPC de febrero 2024 acaba de ser actualizado en los archivos de Excel del BCRD. Como veo que el API aun no registra los cambios, probablemente el proceso sea primero generarlo en Excel y luego enviar la data al SDMX.\n",
    "\n",
    "En ese caso, si el tiempo es un factor, se podría automatizar la descarga del archivo y leer el contenido. Eso si, el formato que traen esos archivos no es directamente amigable, por ende, hay que ejecutar algunas modificaciones. Es una solución menos elegante, pero funciona:"
   ]
  },
  {
   "cell_type": "markdown",
   "metadata": {},
   "source": [
    "#### <a id='toc1_1_7_1_'></a>[Actualización](#toc0_)\n",
    "\n",
    "Dos días despues de que se publicara el IPC en Excel en la web del BCRD, la data del SDMX del BCRD fue actualizada, es decir, el 2024-03-09.\n",
    "\n",
    "Pero todavía no en el API del FMI."
   ]
  },
  {
   "cell_type": "markdown",
   "metadata": {},
   "source": [
    "## <a id='toc1_2_'></a>[Usando el archivo de Excel del BCRD](#toc0_)"
   ]
  },
  {
   "cell_type": "markdown",
   "metadata": {},
   "source": [
    "### <a id='toc1_2_1_'></a>[Import adicional](#toc0_)"
   ]
  },
  {
   "cell_type": "code",
   "execution_count": 16,
   "metadata": {},
   "outputs": [],
   "source": [
    "import polars.selectors as cs"
   ]
  },
  {
   "cell_type": "markdown",
   "metadata": {},
   "source": [
    "### <a id='toc1_2_2_'></a>[Descarga de archivo](#toc0_)"
   ]
  },
  {
   "cell_type": "code",
   "execution_count": 17,
   "metadata": {},
   "outputs": [],
   "source": [
    "url = \"https://cdn.bancentral.gov.do/documents/estadisticas/\\\n",
    "precios/documents/ipc_base_2019-2020.xls?v=1687458753373\"\n",
    "\n",
    "file_extension = \".xls\"\n",
    "\n",
    "r = requests.get(url)\n",
    "\n",
    "filename = f\"{url.split(file_extension)[0].split(\"/\")[-1]}\\\n",
    "{file_extension}\"\n",
    "\n",
    "with open(filename, 'wb') as f:\n",
    "    f.write(r.content)"
   ]
  },
  {
   "cell_type": "markdown",
   "metadata": {},
   "source": [
    "### <a id='toc1_2_3_'></a>[Datos del reporte](#toc0_)"
   ]
  },
  {
   "cell_type": "code",
   "execution_count": 18,
   "metadata": {},
   "outputs": [
    {
     "name": "stdout",
     "output_type": "stream",
     "text": [
      "\n",
      " Indice de Precios al Consumidor Nacional, Serie Mensual, 1984-2024 \n",
      " Serie Empalmada Oficial \n",
      " Base Anual: Octubre 2019 - Septiembre 2020=100\n"
     ]
    }
   ],
   "source": [
    "df = pl.read_excel(filename)\n",
    "\n",
    "report_title_info = df.columns[0]\n",
    "report_type_info = df[0,0]\n",
    "report_base_info = df[1,0]\n",
    "\n",
    "# DAtos\n",
    "print(\n",
    "    '\\n'\n",
    "    ,report_title_info,\n",
    "    '\\n',\n",
    "    report_type_info,\n",
    "    '\\n',\n",
    "    report_base_info\n",
    ")"
   ]
  },
  {
   "cell_type": "markdown",
   "metadata": {},
   "source": [
    "### <a id='toc1_2_4_'></a>[Hacer la data usable](#toc0_)"
   ]
  },
  {
   "cell_type": "code",
   "execution_count": 19,
   "metadata": {},
   "outputs": [],
   "source": [
    "# Delimitar el dataframe al espacio 'usable'\n",
    "df = df[4:-1, :-3]\n",
    "\n",
    "# Renombrar las columnas\n",
    "df.columns = [\n",
    "    'Año',\n",
    "    'Mes',\n",
    "    'Indice',\n",
    "    'Variación Porcentual Mensual',\n",
    "    'Variación Porcentual con Diciembre',\n",
    "    'Variación Porcentual 12 meses',\n",
    "    'Promedio 12 meses'\n",
    "]"
   ]
  },
  {
   "cell_type": "code",
   "execution_count": 20,
   "metadata": {},
   "outputs": [],
   "source": [
    "# Modificaciones de datos y de formato\n",
    "df = (\n",
    "    df\n",
    "    .with_columns(\n",
    "        # Por algún motivo el método strip_chars no reemplaza\n",
    "        # algunas celdas con espacios debajo de 1996.\n",
    "        # Se reemplaza las celdas de 0 bytes que no son nulas\n",
    "        pl.when(\n",
    "            pl.col('Año').str.len_bytes() == 0\n",
    "        )\n",
    "        .then(None)\n",
    "        .otherwise(pl.col('Año'))\n",
    "        .alias('Año')\n",
    "    )\n",
    ")\n",
    "\n",
    "df = (\n",
    "    df\n",
    "    .with_columns(\n",
    "        pl.col('Año')\n",
    "        # Eliminar espacios en blanco\n",
    "        .str.strip_chars()\n",
    "\n",
    "        # Convetir de string a float\n",
    "        .cast(pl.Int64, strict=False)\n",
    "\n",
    "        # Completar los valores nulos\n",
    "        .fill_null(strategy=\"forward\"),\n",
    "\n",
    "        # Convertir de string a float las columnas\n",
    "        # que contienen estas palabras\n",
    "        (cs.contains((\"Indice\",\"Variación\",\"Promedio\")))\n",
    "        .cast(pl.Float64),\n",
    "\n",
    "        # Eliminar espacios en blanco - Mes\n",
    "        pl.col('Mes')\n",
    "        .str.strip_chars()\n",
    "    )\n",
    "    # Eliminar cualquier fila en blanco convertida en null\n",
    "    .drop_nulls()    \n",
    ")"
   ]
  },
  {
   "cell_type": "code",
   "execution_count": 21,
   "metadata": {},
   "outputs": [],
   "source": [
    "# Otras modificaciones\n",
    "\n",
    "df = (\n",
    "    # Traer los meses en números\n",
    "    df\n",
    "    .join(\n",
    "        pl.DataFrame(\n",
    "            {\n",
    "                'Mes': [\n",
    "                    'Enero',\n",
    "                    'Febrero',\n",
    "                    'Marzo',\n",
    "                    'Abril',\n",
    "                    'Mayo',\n",
    "                    'Junio',\n",
    "                    'Julio',\n",
    "                    'Agosto',\n",
    "                    'Septiembre',\n",
    "                    'Octubre',\n",
    "                    'Noviembre',\n",
    "                    'Diciembre'\n",
    "                ],\n",
    "                'mes_num': range(1,13)\n",
    "            }\n",
    "        ),\n",
    "        on = 'Mes',\n",
    "        how='left'\n",
    "    )\n",
    "    .with_columns(\n",
    "        pl.date('Año', 'mes_num', 1)\n",
    "        .alias('TIME_PERIOD')\n",
    "    )\n",
    "    # Solo uso estas 2 columnas\n",
    "    # Si deseas utilizarlas todas elimina el select y el rename\n",
    "    # Para las 2 columnas uso el mismo nombre que tienen en el API del FMI\n",
    "    .select(['TIME_PERIOD', 'Indice'])\n",
    "    .rename({'Indice':'OBS_VALUE'})\n",
    ")"
   ]
  },
  {
   "cell_type": "code",
   "execution_count": 22,
   "metadata": {},
   "outputs": [
    {
     "data": {
      "text/html": [
       "<div><style>\n",
       ".dataframe > thead > tr,\n",
       ".dataframe > tbody > tr {\n",
       "  text-align: right;\n",
       "  white-space: pre-wrap;\n",
       "}\n",
       "</style>\n",
       "<small>shape: (9, 3)</small><table border=\"1\" class=\"dataframe\"><thead><tr><th>statistic</th><th>TIME_PERIOD</th><th>OBS_VALUE</th></tr><tr><td>str</td><td>str</td><td>f64</td></tr></thead><tbody><tr><td>&quot;count&quot;</td><td>&quot;482&quot;</td><td>482.0</td></tr><tr><td>&quot;null_count&quot;</td><td>&quot;0&quot;</td><td>0.0</td></tr><tr><td>&quot;mean&quot;</td><td>&quot;2004-01-15&quot;</td><td>49.107856</td></tr><tr><td>&quot;std&quot;</td><td>null</td><td>38.409326</td></tr><tr><td>&quot;min&quot;</td><td>&quot;1984-01-01&quot;</td><td>1.37936</td></tr><tr><td>&quot;25%&quot;</td><td>&quot;1994-01-01&quot;</td><td>13.95858</td></tr><tr><td>&quot;50%&quot;</td><td>&quot;2004-02-01&quot;</td><td>48.163687</td></tr><tr><td>&quot;75%&quot;</td><td>&quot;2014-02-01&quot;</td><td>86.095266</td></tr><tr><td>&quot;max&quot;</td><td>&quot;2024-02-01&quot;</td><td>127.0946</td></tr></tbody></table></div>"
      ],
      "text/plain": [
       "shape: (9, 3)\n",
       "┌────────────┬─────────────┬───────────┐\n",
       "│ statistic  ┆ TIME_PERIOD ┆ OBS_VALUE │\n",
       "│ ---        ┆ ---         ┆ ---       │\n",
       "│ str        ┆ str         ┆ f64       │\n",
       "╞════════════╪═════════════╪═══════════╡\n",
       "│ count      ┆ 482         ┆ 482.0     │\n",
       "│ null_count ┆ 0           ┆ 0.0       │\n",
       "│ mean       ┆ 2004-01-15  ┆ 49.107856 │\n",
       "│ std        ┆ null        ┆ 38.409326 │\n",
       "│ min        ┆ 1984-01-01  ┆ 1.37936   │\n",
       "│ 25%        ┆ 1994-01-01  ┆ 13.95858  │\n",
       "│ 50%        ┆ 2004-02-01  ┆ 48.163687 │\n",
       "│ 75%        ┆ 2014-02-01  ┆ 86.095266 │\n",
       "│ max        ┆ 2024-02-01  ┆ 127.0946  │\n",
       "└────────────┴─────────────┴───────────┘"
      ]
     },
     "execution_count": 22,
     "metadata": {},
     "output_type": "execute_result"
    }
   ],
   "source": [
    "df.describe()"
   ]
  },
  {
   "cell_type": "code",
   "execution_count": 23,
   "metadata": {},
   "outputs": [
    {
     "data": {
      "text/html": [
       "<div><style>\n",
       ".dataframe > thead > tr,\n",
       ".dataframe > tbody > tr {\n",
       "  text-align: right;\n",
       "  white-space: pre-wrap;\n",
       "}\n",
       "</style>\n",
       "<small>shape: (5, 2)</small><table border=\"1\" class=\"dataframe\"><thead><tr><th>TIME_PERIOD</th><th>OBS_VALUE</th></tr><tr><td>date</td><td>f64</td></tr></thead><tbody><tr><td>1984-01-01</td><td>1.37936</td></tr><tr><td>1984-02-01</td><td>1.418138</td></tr><tr><td>1984-03-01</td><td>1.435622</td></tr><tr><td>1984-04-01</td><td>1.458127</td></tr><tr><td>1984-05-01</td><td>1.475611</td></tr></tbody></table></div>"
      ],
      "text/plain": [
       "shape: (5, 2)\n",
       "┌─────────────┬───────────┐\n",
       "│ TIME_PERIOD ┆ OBS_VALUE │\n",
       "│ ---         ┆ ---       │\n",
       "│ date        ┆ f64       │\n",
       "╞═════════════╪═══════════╡\n",
       "│ 1984-01-01  ┆ 1.37936   │\n",
       "│ 1984-02-01  ┆ 1.418138  │\n",
       "│ 1984-03-01  ┆ 1.435622  │\n",
       "│ 1984-04-01  ┆ 1.458127  │\n",
       "│ 1984-05-01  ┆ 1.475611  │\n",
       "└─────────────┴───────────┘"
      ]
     },
     "execution_count": 23,
     "metadata": {},
     "output_type": "execute_result"
    }
   ],
   "source": [
    "df.head()"
   ]
  },
  {
   "cell_type": "code",
   "execution_count": 24,
   "metadata": {},
   "outputs": [
    {
     "data": {
      "text/plain": [
       "91.14024383106026"
      ]
     },
     "execution_count": 24,
     "metadata": {},
     "output_type": "execute_result"
    }
   ],
   "source": [
    "cpi_change(df, 198401,202402)"
   ]
  },
  {
   "cell_type": "markdown",
   "metadata": {},
   "source": [
    "Ahora tenemos los datos del IPC general desde el 1984, además de que se actualizó primero que el API 😃"
   ]
  },
  {
   "cell_type": "markdown",
   "metadata": {},
   "source": [
    "### <a id='toc1_2_5_'></a>[Gráfico de la inflación: ejemplo](#toc0_)"
   ]
  },
  {
   "cell_type": "code",
   "execution_count": 25,
   "metadata": {},
   "outputs": [],
   "source": [
    "from matplotlib import pyplot as plt\n",
    "import matplotlib.ticker as mtick"
   ]
  },
  {
   "cell_type": "code",
   "execution_count": 26,
   "metadata": {},
   "outputs": [],
   "source": [
    "df_inflacion = (\n",
    "    df\n",
    "    .with_columns(\n",
    "        pl.col(\"OBS_VALUE\")\n",
    "        .pct_change()\n",
    "        .alias(\"pct_change\")\n",
    "    )\n",
    ")"
   ]
  },
  {
   "cell_type": "code",
   "execution_count": 27,
   "metadata": {},
   "outputs": [
    {
     "data": {
      "text/html": [
       "<div><style>\n",
       ".dataframe > thead > tr,\n",
       ".dataframe > tbody > tr {\n",
       "  text-align: right;\n",
       "  white-space: pre-wrap;\n",
       "}\n",
       "</style>\n",
       "<small>shape: (5, 3)</small><table border=\"1\" class=\"dataframe\"><thead><tr><th>TIME_PERIOD</th><th>OBS_VALUE</th><th>pct_change</th></tr><tr><td>date</td><td>f64</td><td>f64</td></tr></thead><tbody><tr><td>1984-01-01</td><td>1.37936</td><td>null</td></tr><tr><td>1984-02-01</td><td>1.418138</td><td>0.028112</td></tr><tr><td>1984-03-01</td><td>1.435622</td><td>0.012329</td></tr><tr><td>1984-04-01</td><td>1.458127</td><td>0.015676</td></tr><tr><td>1984-05-01</td><td>1.475611</td><td>0.011991</td></tr></tbody></table></div>"
      ],
      "text/plain": [
       "shape: (5, 3)\n",
       "┌─────────────┬───────────┬────────────┐\n",
       "│ TIME_PERIOD ┆ OBS_VALUE ┆ pct_change │\n",
       "│ ---         ┆ ---       ┆ ---        │\n",
       "│ date        ┆ f64       ┆ f64        │\n",
       "╞═════════════╪═══════════╪════════════╡\n",
       "│ 1984-01-01  ┆ 1.37936   ┆ null       │\n",
       "│ 1984-02-01  ┆ 1.418138  ┆ 0.028112   │\n",
       "│ 1984-03-01  ┆ 1.435622  ┆ 0.012329   │\n",
       "│ 1984-04-01  ┆ 1.458127  ┆ 0.015676   │\n",
       "│ 1984-05-01  ┆ 1.475611  ┆ 0.011991   │\n",
       "└─────────────┴───────────┴────────────┘"
      ]
     },
     "execution_count": 27,
     "metadata": {},
     "output_type": "execute_result"
    }
   ],
   "source": [
    "df_inflacion.head()"
   ]
  },
  {
   "cell_type": "code",
   "execution_count": 28,
   "metadata": {},
   "outputs": [
    {
     "data": {
      "image/png": "[encoded data removed]",
      "text/plain": [
       "<Figure size 1400x600 with 1 Axes>"
      ]
     },
     "metadata": {},
     "output_type": "display_data"
    }
   ],
   "source": [
    "fig, ax = plt.subplots(figsize=(14,6))\n",
    "\n",
    "ax.grid(axis='y', color='#E0E1E6')\n",
    "ax.set_frame_on(False)\n",
    "\n",
    "ax.plot(\n",
    "    df_inflacion['TIME_PERIOD'],\n",
    "    df_inflacion['pct_change'],\n",
    "    color = 'blue'\n",
    ")\n",
    "\n",
    "ax.set(\n",
    "    title = 'Inflación Mensual',\n",
    "    xlabel = 'Fecha',\n",
    "    ylabel = 'Porcentaje'\n",
    ")\n",
    "\n",
    "ax.yaxis.set_major_formatter(mtick.PercentFormatter(1.0))"
   ]
  },
  {
   "cell_type": "markdown",
   "metadata": {},
   "source": [
    "### <a id='toc1_2_6_'></a>[Indexar montos](#toc0_)"
   ]
  },
  {
   "cell_type": "code",
   "execution_count": 29,
   "metadata": {},
   "outputs": [],
   "source": [
    "import random\n",
    "from datetime import datetime, timedelta"
   ]
  },
  {
   "cell_type": "code",
   "execution_count": 30,
   "metadata": {},
   "outputs": [],
   "source": [
    "random.seed(42)"
   ]
  },
  {
   "cell_type": "code",
   "execution_count": 31,
   "metadata": {},
   "outputs": [],
   "source": [
    "# Formula para generar fechas aleatorias\n",
    "def generate_random_date(start_date, end_date, random_seed):\n",
    "\n",
    "    start_date = datetime.strptime(start_date, '%Y-%m-%d').date()\n",
    "    end_date = datetime.strptime(end_date, '%Y-%m-%d').date()\n",
    "\n",
    "    # Set the random seed for consistency\n",
    "    random.seed(random_seed)\n",
    "\n",
    "    delta = (end_date - start_date).days\n",
    "\n",
    "    all_dates = [start_date + timedelta(days=i) for i in range(delta + 1)]\n",
    "\n",
    "    random.shuffle(all_dates)\n",
    "\n",
    "    return all_dates"
   ]
  },
  {
   "cell_type": "code",
   "execution_count": 32,
   "metadata": {},
   "outputs": [],
   "source": [
    "# Fechas aleatorias dentro del rango\n",
    "start_date = '1984-01-01'\n",
    "end_date = '2024-02-01'\n",
    "\n",
    "random_dates = generate_random_date(start_date, end_date, random_seed=42)\n",
    "\n",
    "date_list = []\n",
    "for x in range(10):\n",
    "    date_list.append(random_dates[x])"
   ]
  },
  {
   "cell_type": "code",
   "execution_count": 33,
   "metadata": {},
   "outputs": [],
   "source": [
    "# Montos aletorios\n",
    "amount_list = []\n",
    "\n",
    "random.seed(42)\n",
    "\n",
    "for x in range(10):\n",
    "    r_num = random.randint(1000,100000)\n",
    "    amount_list.append(r_num)"
   ]
  },
  {
   "cell_type": "code",
   "execution_count": 34,
   "metadata": {},
   "outputs": [],
   "source": [
    "# Dataframe para ejemplo\n",
    "some_df = pl.DataFrame(\n",
    "    {\n",
    "        'fecha': date_list,\n",
    "        'monto': amount_list\n",
    "    }\n",
    ")"
   ]
  },
  {
   "cell_type": "code",
   "execution_count": 35,
   "metadata": {},
   "outputs": [
    {
     "data": {
      "text/html": [
       "<div><style>\n",
       ".dataframe > thead > tr,\n",
       ".dataframe > tbody > tr {\n",
       "  text-align: right;\n",
       "  white-space: pre-wrap;\n",
       "}\n",
       "</style>\n",
       "<small>shape: (10, 8)</small><table border=\"1\" class=\"dataframe\"><thead><tr><th>fecha</th><th>monto</th><th>TIME_PERIOD</th><th>OBS_VALUE</th><th>TIME_PERIOD_referencia</th><th>OBS_VALUE_referencia</th><th>factor</th><th>monto_indexado</th></tr><tr><td>date</td><td>i64</td><td>date</td><td>f64</td><td>date</td><td>f64</td><td>f64</td><td>f64</td></tr></thead><tbody><tr><td>1985-02-22</td><td>4278</td><td>1985-02-01</td><td>2.138112</td><td>2024-02-01</td><td>127.0946</td><td>59.442431</td><td>254294.718975</td></tr><tr><td>1989-08-11</td><td>15592</td><td>1989-08-01</td><td>5.710116</td><td>2024-02-01</td><td>127.0946</td><td>22.257798</td><td>347043.584438</td></tr><tr><td>1990-08-07</td><td>19289</td><td>1990-08-01</td><td>8.658914</td><td>2024-02-01</td><td>127.0946</td><td>14.677892</td><td>283121.852193</td></tr><tr><td>1994-03-20</td><td>33098</td><td>1994-03-01</td><td>14.257545</td><td>2024-02-01</td><td>127.0946</td><td>8.914199</td><td>295042.171846</td></tr><tr><td>1996-06-15</td><td>37048</td><td>1996-06-01</td><td>17.459607</td><td>2024-02-01</td><td>127.0946</td><td>7.279351</td><td>269685.380802</td></tr><tr><td>1996-11-09</td><td>14434</td><td>1996-11-01</td><td>17.784366</td><td>2024-02-01</td><td>127.0946</td><td>7.146423</td><td>103151.468007</td></tr><tr><td>2006-09-20</td><td>30256</td><td>2006-09-01</td><td>56.715062</td><td>2024-02-01</td><td>127.0946</td><td>2.240932</td><td>67801.64</td></tr><tr><td>2009-02-14</td><td>84810</td><td>2009-02-01</td><td>65.885314</td><td>2024-02-01</td><td>127.0946</td><td>1.929028</td><td>163600.844114</td></tr><tr><td>2012-04-21</td><td>97530</td><td>2012-04-01</td><td>80.060207</td><td>2024-02-01</td><td>127.0946</td><td>1.587488</td><td>154827.682511</td></tr><tr><td>2022-01-11</td><td>98196</td><td>2022-01-01</td><td>114.602</td><td>2024-02-01</td><td>127.0946</td><td>1.109009</td><td>108900.20542</td></tr></tbody></table></div>"
      ],
      "text/plain": [
       "shape: (10, 8)\n",
       "┌────────────┬───────┬─────────────┬───────────┬─────────────┬────────────┬───────────┬────────────┐\n",
       "│ fecha      ┆ monto ┆ TIME_PERIOD ┆ OBS_VALUE ┆ TIME_PERIOD ┆ OBS_VALUE_ ┆ factor    ┆ monto_inde │\n",
       "│ ---        ┆ ---   ┆ ---         ┆ ---       ┆ _referencia ┆ referencia ┆ ---       ┆ xado       │\n",
       "│ date       ┆ i64   ┆ date        ┆ f64       ┆ ---         ┆ ---        ┆ f64       ┆ ---        │\n",
       "│            ┆       ┆             ┆           ┆ date        ┆ f64        ┆           ┆ f64        │\n",
       "╞════════════╪═══════╪═════════════╪═══════════╪═════════════╪════════════╪═══════════╪════════════╡\n",
       "│ 1985-02-22 ┆ 4278  ┆ 1985-02-01  ┆ 2.138112  ┆ 2024-02-01  ┆ 127.0946   ┆ 59.442431 ┆ 254294.718 │\n",
       "│            ┆       ┆             ┆           ┆             ┆            ┆           ┆ 975        │\n",
       "│ 1989-08-11 ┆ 15592 ┆ 1989-08-01  ┆ 5.710116  ┆ 2024-02-01  ┆ 127.0946   ┆ 22.257798 ┆ 347043.584 │\n",
       "│            ┆       ┆             ┆           ┆             ┆            ┆           ┆ 438        │\n",
       "│ 1990-08-07 ┆ 19289 ┆ 1990-08-01  ┆ 8.658914  ┆ 2024-02-01  ┆ 127.0946   ┆ 14.677892 ┆ 283121.852 │\n",
       "│            ┆       ┆             ┆           ┆             ┆            ┆           ┆ 193        │\n",
       "│ 1994-03-20 ┆ 33098 ┆ 1994-03-01  ┆ 14.257545 ┆ 2024-02-01  ┆ 127.0946   ┆ 8.914199  ┆ 295042.171 │\n",
       "│            ┆       ┆             ┆           ┆             ┆            ┆           ┆ 846        │\n",
       "│ 1996-06-15 ┆ 37048 ┆ 1996-06-01  ┆ 17.459607 ┆ 2024-02-01  ┆ 127.0946   ┆ 7.279351  ┆ 269685.380 │\n",
       "│            ┆       ┆             ┆           ┆             ┆            ┆           ┆ 802        │\n",
       "│ 1996-11-09 ┆ 14434 ┆ 1996-11-01  ┆ 17.784366 ┆ 2024-02-01  ┆ 127.0946   ┆ 7.146423  ┆ 103151.468 │\n",
       "│            ┆       ┆             ┆           ┆             ┆            ┆           ┆ 007        │\n",
       "│ 2006-09-20 ┆ 30256 ┆ 2006-09-01  ┆ 56.715062 ┆ 2024-02-01  ┆ 127.0946   ┆ 2.240932  ┆ 67801.64   │\n",
       "│ 2009-02-14 ┆ 84810 ┆ 2009-02-01  ┆ 65.885314 ┆ 2024-02-01  ┆ 127.0946   ┆ 1.929028  ┆ 163600.844 │\n",
       "│            ┆       ┆             ┆           ┆             ┆            ┆           ┆ 114        │\n",
       "│ 2012-04-21 ┆ 97530 ┆ 2012-04-01  ┆ 80.060207 ┆ 2024-02-01  ┆ 127.0946   ┆ 1.587488  ┆ 154827.682 │\n",
       "│            ┆       ┆             ┆           ┆             ┆            ┆           ┆ 511        │\n",
       "│ 2022-01-11 ┆ 98196 ┆ 2022-01-01  ┆ 114.602   ┆ 2024-02-01  ┆ 127.0946   ┆ 1.109009  ┆ 108900.205 │\n",
       "│            ┆       ┆             ┆           ┆             ┆            ┆           ┆ 42         │\n",
       "└────────────┴───────┴─────────────┴───────────┴─────────────┴────────────┴───────────┴────────────┘"
      ]
     },
     "execution_count": 35,
     "metadata": {},
     "output_type": "execute_result"
    }
   ],
   "source": [
    "(\n",
    "    some_df\n",
    "    .sort(by='fecha')\n",
    "\n",
    "    #traemos el índice del año-mes de la columna fecha\n",
    "    .join_asof(\n",
    "        df.sort(by='TIME_PERIOD'),\n",
    "        left_on='fecha',\n",
    "        right_on='TIME_PERIOD',\n",
    "        strategy='backward'\n",
    "    )\n",
    "\n",
    "    # traemos el índice de referencia\n",
    "    # por ejemplo, el último año-mes registrado\n",
    "    # de ser otro deberiamos pasar el año-mes deseado\n",
    "    # o pasar una lista de fechas segun la necesidad\n",
    "    .join(\n",
    "        df\n",
    "        .filter(\n",
    "            pl.col('TIME_PERIOD') == pl.max('TIME_PERIOD')\n",
    "        ),\n",
    "        how=\"cross\",\n",
    "        suffix=\"_referencia\"\n",
    "    )\n",
    "\n",
    "    # cálculamos el factor de cambio\n",
    "    .with_columns(\n",
    "        (pl.col('OBS_VALUE_referencia') / pl.col('OBS_VALUE'))\n",
    "        .alias('factor')\n",
    "    )\n",
    "\n",
    "    # por último obtenemos el monto indexado\n",
    "    .with_columns(\n",
    "        (pl.col('monto') * pl.col('factor'))\n",
    "        .alias('monto_indexado')\n",
    "    )\n",
    ")"
   ]
  },
  {
   "cell_type": "code",
   "execution_count": null,
   "metadata": {},
   "outputs": [],
   "source": []
  }
 ],
 "metadata": {
  "kernelspec": {
   "display_name": "Python 3",
   "language": "python",
   "name": "python3"
  },
  "language_info": {
   "codemirror_mode": {
    "name": "ipython",
    "version": 3
   },
   "file_extension": ".py",
   "mimetype": "text/x-python",
   "name": "python",
   "nbconvert_exporter": "python",
   "pygments_lexer": "ipython3",
   "version": "3.12.1"
  }
 },
 "nbformat": 4,
 "nbformat_minor": 2
}
